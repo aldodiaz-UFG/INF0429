{
 "cells": [
  {
   "cell_type": "markdown",
   "id": "0b2d9466",
   "metadata": {},
   "source": [
    "# INF0429 - Robótica\n",
    "## Lab02 - Localizaçao com LiDAR"
   ]
  },
  {
   "cell_type": "code",
   "execution_count": 1,
   "id": "594d4cbc",
   "metadata": {},
   "outputs": [
    {
     "name": "stderr",
     "output_type": "stream",
     "text": [
      "/home/kuntur/.local/lib/python3.10/site-packages/matplotlib/projections/__init__.py:63: UserWarning: Unable to import Axes3D. This may be due to multiple versions of Matplotlib being installed (e.g. as a system package and as a pip package). As a result, the 3D projection is not available.\n",
      "  warnings.warn(\"Unable to import Axes3D. This may be due to multiple versions of \"\n"
     ]
    }
   ],
   "source": [
    "%matplotlib inline\n",
    "import numpy as np\n",
    "import matplotlib.pyplot as plt\n",
    "from rosbags.rosbag2 import Reader\n",
    "from rosbags.typesys import Stores, get_typestore\n",
    "from IPython import display"
   ]
  },
  {
   "cell_type": "code",
   "execution_count": 2,
   "id": "a57836e1",
   "metadata": {},
   "outputs": [],
   "source": [
    "# Mapa do ambiente\n",
    "landmarks = np.array([[ 3.00085905, -0.62390064],\n",
    "                      [ 3.89524457,  0.36092648],\n",
    "                      [ 3.9005231 ,  2.80069002],\n",
    "                      [ 3.06272609,  2.80621234],\n",
    "                      [ 3.04464186,  3.41088797],\n",
    "                      [-1.14314437,  3.41088816],\n",
    "                      [-1.15656156,  2.07743863],\n",
    "                      [-2.49979193,  2.06182513],\n",
    "                      [-2.50508263, -0.62015044]], dtype=np.float32)"
   ]
  },
  {
   "cell_type": "code",
   "execution_count": 3,
   "id": "8ebd9904",
   "metadata": {},
   "outputs": [
    {
     "data": {
      "image/png": "[encoded data removed]",
      "text/plain": [
       "<Figure size 640x480 with 1 Axes>"
      ]
     },
     "metadata": {},
     "output_type": "display_data"
    }
   ],
   "source": [
    "_, ax = plt.subplots(1, 1)\n",
    "plt.plot(0, 0, marker='>', markersize=15, mec='gray', mfc='gray', label='inicio')\n",
    "plt.plot(landmarks[:, 0], landmarks[:, 1], marker='*', markersize=15, mec='r', mfc='r', label='mapa')\n",
    "plt.legend()\n",
    "plt.show()"
   ]
  },
  {
   "cell_type": "markdown",
   "id": "25627c71",
   "metadata": {},
   "source": [
    "### Funções importantes"
   ]
  },
  {
   "cell_type": "code",
   "execution_count": 4,
   "id": "3b20176d",
   "metadata": {},
   "outputs": [],
   "source": [
    "def Polar2Cartesian(r, alpha):\n",
    "    return np.transpose(np.array([np.cos(alpha)*r, np.sin(alpha)*r]))\n",
    "\n",
    "def getDistance(P, Ps, Pe): # point to line distance, where the line is given with points Ps and Pe\n",
    "    if np.all(np.equal(Ps, Pe)):\n",
    "        return np.linalg.norm(P-Ps)\n",
    "\n",
    "    return np.divide(np.abs(np.linalg.norm(np.cross(Pe-Ps, Ps-P))),np.linalg.norm(Pe-Ps))\n",
    "\n",
    "def GetMostDistant(P):\n",
    "    dmax = 0\n",
    "    index = -1\n",
    "    for i in range(1, P.shape[0]):\n",
    "        d = getDistance(P[i,:], P[0,:], P[-1,:])\n",
    "        if (d > dmax):\n",
    "            index = i\n",
    "            dmax = d\n",
    "\n",
    "    return dmax, index\n",
    "\n",
    "def SplitAndMerge(P, threshold):\n",
    "    d, ind = GetMostDistant(P)\n",
    "\n",
    "    if (d > threshold):\n",
    "        P1 = SplitAndMerge(P[:ind+1, :], threshold) # split and merge left array\n",
    "        P2 = SplitAndMerge(P[ind:, :], threshold) # split and merge right array\n",
    "        # there are 2 \"d\" points, so exlude 1 (for example from 1st array)\n",
    "        points = np.vstack((P1[:-1, :], P2))\n",
    "    else:\n",
    "        points = np.vstack((P[0, :], P[-1, :]))\n",
    "\n",
    "    return points"
   ]
  },
  {
   "cell_type": "markdown",
   "id": "2c30e956",
   "metadata": {},
   "source": [
    "### Configurando parâmetros dos sensores LiDAR e odom"
   ]
  },
  {
   "cell_type": "code",
   "execution_count": 5,
   "id": "225da912",
   "metadata": {},
   "outputs": [],
   "source": [
    "typestore = get_typestore(Stores.ROS2_FOXY)\n",
    "\n",
    "# create reader instance and open for reading\n",
    "with Reader('./albot_tours0/') as reader:    \n",
    "    # iterate over messages\n",
    "    for connection, timestamp, rawdata in reader.messages():\n",
    "        if connection.topic == '/scan': # LiDAR @ 10 Hz\n",
    "            # typestore = get_typestore(Stores.ROS2_FOXY)\n",
    "            lidar = typestore.deserialize_cdr(rawdata, connection.msgtype)\n",
    "\n",
    "            # Lidar parametros do feixe\n",
    "            lidar_th_min = lidar.angle_min # -90 deg\n",
    "            lidar_th_max = lidar.angle_max # +90 deg\n",
    "            lidar_th_step = lidar.angle_increment # +1 deg\n",
    "            lidar_angles = np.arange(lidar_th_min, lidar_th_max + lidar_th_step, lidar_th_step) # radianos\n",
    "            \n",
    "            break\n",
    "            \n",
    "        if connection.topic == '/imu': # IMU @ 100 Hz\n",
    "            # typestore = get_typestore(Stores.ROS2_FOXY)\n",
    "            imu = typestore.deserialize_cdr(rawdata, connection.msgtype)\n",
    "            \n",
    "            # Covariancia do acelerometro\n",
    "            Q_acc = imu.linear_acceleration_covariance.reshape((3, 3)).astype(np.float32)\n",
    "            \n",
    "            # Covariancia do giroscopio\n",
    "            Q_gyr = imu.angular_velocity_covariance.reshape((3, 3)).astype(np.float32)\n",
    "            \n",
    "            # Vetor de ruido dos sensores inerciais\n",
    "            w_imu = np.sqrt(np.array([[Q_acc[0, 0]],\n",
    "                                      [Q_acc[1, 1]],\n",
    "                                      [Q_gyr[2, 2]]]))\n",
    "            \n",
    "        if connection.topic == '/odom': # odometry @ 100 Hz\n",
    "            odom = typestore.deserialize_cdr(rawdata, connection.msgtype)\n",
    "            \n",
    "            # Vetor de ruido dos encoders\n",
    "            w_odom = np.sqrt(np.diag(np.array(odom.twist.covariance).reshape(6, 6)))[:, np.newaxis] # linear, angular\n",
    "            "
   ]
  },
  {
   "cell_type": "markdown",
   "id": "563d0946",
   "metadata": {},
   "source": [
    "### Laço de processamento on-line"
   ]
  },
  {
   "cell_type": "code",
   "execution_count": 6,
   "id": "80690698",
   "metadata": {},
   "outputs": [
    {
     "data": {
      "image/png": "[encoded data removed]",
      "text/plain": [
       "<Figure size 640x480 with 1 Axes>"
      ]
     },
     "metadata": {},
     "output_type": "display_data"
    }
   ],
   "source": [
    "# Reference: https://answers.ros.org/question/358686/how-to-read-a-bag-file-in-ros2/\n",
    "\n",
    "# Plots\n",
    "fig, _ = plt.subplots()\n",
    "plt.plot(landmarks[:, 0], landmarks[:, 1], marker='*', markersize=15, color='gray', mec='gray', mfc='gray', label='mapa')\n",
    "plt.plot(0, 0, marker='>', markersize=15, mec='gray', mfc='gray', label='inicio')\n",
    "plt.legend()\n",
    "\n",
    "threshold_SM = 0.025 # Split & Merge threshold\n",
    "\n",
    "typestore = get_typestore(Stores.ROS2_FOXY)\n",
    "\n",
    "# create reader instance and open for reading\n",
    "with Reader('./albot_tours0/') as reader:\n",
    "    # iterate over messages\n",
    "    for connection, timestamp, rawdata in reader.messages():\n",
    "        if connection.topic == '/scan':\n",
    "            print('LIDAR')\n",
    "            lidar = typestore.deserialize_cdr(rawdata, connection.msgtype)\n",
    "            \n",
    "            # Lidar distancias\n",
    "            lidar_ranges = lidar.ranges\n",
    "            \n",
    "            # Coordenadas 2D dos feixes\n",
    "            lidar_x = lidar_ranges * np.cos(lidar_angles)\n",
    "            lidar_y = lidar_ranges * np.sin(lidar_angles)\n",
    "            \n",
    "            # Split & Nerge\n",
    "            P = Polar2Cartesian(lidar_ranges, lidar_angles)\n",
    "            lidar_corners = SplitAndMerge(P, threshold_SM)\n",
    "            \n",
    "            # Plots\n",
    "            plt.plot(lidar_x, lidar_y, 'b.')\n",
    "            plt.plot(lidar_corners[:, 0], lidar_corners[:, 1], 'or')\n",
    "            display.display(fig)\n",
    "            display.clear_output(wait=True)\n",
    "            break\n",
    "\n",
    "        if connection.topic == '/imu':\n",
    "            print('IMU')\n",
    "            imu = typestore.deserialize_cdr(rawdata, connection.msgtype)\n",
    "            \n",
    "            # Accelerometer data\n",
    "            acc = np.array([imu.linear_acceleration.x, imu.linear_acceleration.y, imu.linear_acceleration.z], dtype=np.float32)\n",
    "            \n",
    "            # Gyroscope data\n",
    "            gyr = np.array([imu.angular_velocity.x, imu.angular_velocity.y, imu.angular_velocity.z], dtype=np.float32)\n",
    "            \n",
    "        if connection.topic == '/odom': # wheel odometry @ 100 Hz\n",
    "            print('ODOM')\n",
    "            odom = typestore.deserialize_cdr(rawdata, connection.msgtype)\n",
    "            \n",
    "            linear = np.array([odom.twist.twist.linear.x, odom.twist.twist.linear.y, odom.twist.twist.linear.z], dtype=np.float32)\n",
    "            angular = np.array([odom.twist.twist.angular.x, odom.twist.twist.angular.y, odom.twist.twist.angular.z], dtype=np.float32)"
   ]
  },
  {
   "cell_type": "code",
   "execution_count": null,
   "id": "f103b83d-74a7-4ba6-b337-60fc4a2094b9",
   "metadata": {},
   "outputs": [],
   "source": []
  }
 ],
 "metadata": {
  "kernelspec": {
   "display_name": "Python 3 (ipykernel)",
   "language": "python",
   "name": "python3"
  },
  "language_info": {
   "codemirror_mode": {
    "name": "ipython",
    "version": 3
   },
   "file_extension": ".py",
   "mimetype": "text/x-python",
   "name": "python",
   "nbconvert_exporter": "python",
   "pygments_lexer": "ipython3",
   "version": "3.10.12"
  }
 },
 "nbformat": 4,
 "nbformat_minor": 5
}
